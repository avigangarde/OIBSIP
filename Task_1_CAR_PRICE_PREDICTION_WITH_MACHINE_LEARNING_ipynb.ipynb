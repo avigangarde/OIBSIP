{
  "nbformat": 4,
  "nbformat_minor": 0,
  "metadata": {
    "colab": {
      "private_outputs": true,
      "provenance": [],
      "include_colab_link": true
    },
    "kernelspec": {
      "name": "python3",
      "display_name": "Python 3"
    },
    "language_info": {
      "name": "python"
    }
  },
  "cells": [
    {
      "cell_type": "markdown",
      "metadata": {
        "id": "view-in-github",
        "colab_type": "text"
      },
      "source": [
        "<a href=\"https://colab.research.google.com/github/avigangarde/OIBSIP/blob/main/Task_1_CAR_PRICE_PREDICTION_WITH_MACHINE_LEARNING_ipynb.ipynb\" target=\"_parent\"><img src=\"https://colab.research.google.com/assets/colab-badge.svg\" alt=\"Open In Colab\"/></a>"
      ]
    },
    {
      "cell_type": "markdown",
      "source": [
        "# **Project Name**    - CAR PRICE PREDICTION WITH MACHINE LEARNING\n",
        "\n"
      ],
      "metadata": {
        "id": "vncDsAP0Gaoa"
      }
    },
    {
      "cell_type": "markdown",
      "source": [
        "##### **Project Type**    - Regression\n",
        "##### **Contribution**    - Individual\n",
        "##### **Team Member 1 -** Gangarde Avinash B\n"
      ],
      "metadata": {
        "id": "beRrZCGUAJYm"
      }
    },
    {
      "cell_type": "markdown",
      "source": [
        "# **Project Summary -**"
      ],
      "metadata": {
        "id": "FJNUwmbgGyua"
      }
    },
    {
      "cell_type": "markdown",
      "source": [
        "The goal of this project is to predict car prices and identify the specifications or features that impact the car price. We have been provided with a labeled dataset containing information about various car attributes and their corresponding prices.\n",
        "\n",
        "To achieve this objective, we will begin with an exploratory data analysis (EDA) to gain insights into the dataset's structure and relationships between features and the target variable (car price). We will select relevant features such as make, model, year, mileage, condition, and others based on statistical analysis and domain knowledge.\n",
        "\n",
        "Next, we will choose an appropriate machine learning model for regression tasks, such as linear regression, decision trees, or random forests. The selected model will be trained using the labeled dataset, allowing it to learn the relationships between the chosen features and car prices.\n",
        "\n",
        "We will evaluate the performance of the trained model using a testing set, using metrics such as mean squared error (MSE) or mean absolute error (MAE). Additionally, we will perform feature importance analysis to determine which specifications or features have the most significant impact on car prices. This analysis will provide valuable insights into the factors driving car prices.\n",
        "\n",
        "The project's outcome will be a prediction model capable of estimating car prices accurately. Moreover, we will identify the key specifications or features that strongly influence the car price, enabling stakeholders to make informed decisions regarding pricing, marketing, and product development.\n",
        "\n",
        "By leveraging this predictive model and understanding the impact of different specifications on car prices, businesses can optimize their pricing strategy, improve competitiveness, and better meet customer preferences in the automotive market."
      ],
      "metadata": {
        "id": "F6v_1wHtG2nS"
      }
    },
    {
      "cell_type": "markdown",
      "source": [
        "# **GitHub Link -**"
      ],
      "metadata": {
        "id": "w6K7xa23Elo4"
      }
    },
    {
      "cell_type": "markdown",
      "source": [
        "# **Problem Statement**\n"
      ],
      "metadata": {
        "id": "yQaldy8SH6Dl"
      }
    },
    {
      "cell_type": "markdown",
      "source": [
        "In this scenario, you have been provided with a labeled dataset, which means that each data point in the dataset includes both input features (specifications) and the corresponding output variable (car price). The objective is to develop a predictive model that can accurately estimate car prices based on the given specifications/features. Additionally, the goal is to identify which specific specifications or features have a significant impact on the car price."
      ],
      "metadata": {
        "id": "DpeJGUA3kjGy"
      }
    },
    {
      "cell_type": "markdown",
      "source": [
        "#### **Define Your Business Objective?**"
      ],
      "metadata": {
        "id": "PH-0ReGfmX4f"
      }
    },
    {
      "cell_type": "markdown",
      "source": [
        "Business Objective: Optimizing Car Pricing Strategy\n",
        "\n",
        "The primary business objective for the car price prediction project could be to optimize the car pricing strategy of a company. By accurately predicting car prices, the company can make data-driven decisions to set competitive and profitable prices for their vehicles. This objective can be further broken down into specific goals:\n",
        "\n",
        "Accurate Pricing: Develop a robust and reliable car price prediction model that can accurately estimate the market value of vehicles based on various factors such as make, model, year, mileage, condition, and additional features.\n",
        "\n",
        "Competitive Pricing: Utilize the car price predictions to set competitive prices for different car models compared to competitors. The objective is to find the sweet spot where prices are attractive to customers while ensuring profitability for the company.\n",
        "\n",
        "Market Insights: Gain valuable insights into customer preferences and purchasing patterns by analyzing the factors that significantly influence car prices. This knowledge can help the company understand which features and characteristics have the highest impact on price, enabling them to optimize their product offerings.\n",
        "\n",
        "Inventory Management: Improve inventory management by predicting demand and adjusting prices accordingly. By analyzing historical sales data and market trends, the company can make informed decisions about stocking and pricing specific models to minimize inventory holding costs and maximize sales.\n",
        "\n",
        "Customer Segmentation: Leverage the car price prediction model to segment customers based on their price sensitivity and preferences. This segmentation can be used to tailor marketing and promotional strategies, offering personalized deals and incentives to different customer groups.\n",
        "\n",
        "Pricing Optimization: Continuously refine the car price prediction model based on real-time market data, customer feedback, and sales performance. Implement pricing optimization strategies to adapt to changing market dynamics, customer behavior, and economic factors.\n",
        "\n",
        "Overall, the business objective is to enhance the company's pricing strategy by leveraging data-driven car price predictions, thereby increasing competitiveness, improving profitability, and better meeting the needs of customers in the automotive market."
      ],
      "metadata": {
        "id": "PhDvGCAqmjP1"
      }
    },
    {
      "cell_type": "markdown",
      "source": [
        "# ***Let's Begin !***"
      ],
      "metadata": {
        "id": "O_i_v8NEhb9l"
      }
    },
    {
      "cell_type": "markdown",
      "source": [
        "## ***1. Know Your Data***"
      ],
      "metadata": {
        "id": "HhfV-JJviCcP"
      }
    },
    {
      "cell_type": "markdown",
      "source": [
        "### Import Libraries"
      ],
      "metadata": {
        "id": "Y3lxredqlCYt"
      }
    },
    {
      "cell_type": "code",
      "source": [
        "# Import Libraries\n",
        "# Import Libraries\n",
        "#importing necessary libraries \n",
        "import numpy as np\n",
        "import pandas as pd\n",
        "import matplotlib.pyplot as plt\n",
        "%matplotlib inline\n",
        "import seaborn as sns\n",
        "import missingno as msno\n",
        "\n",
        "import pylab\n",
        "from scipy import stats\n",
        "from statsmodels.stats.outliers_influence import variance_inflation_factor\n",
        "from scipy.stats import zscore\n",
        "from sklearn.linear_model import Lasso, Ridge\n",
        "from sklearn.model_selection import train_test_split\n",
        "from sklearn.preprocessing import StandardScaler\n",
        "from sklearn.linear_model import LinearRegression\n",
        "from sklearn.pipeline import Pipeline\n",
        "from sklearn.tree import DecisionTreeRegressor\n",
        "\n",
        "from sklearn import metrics\n",
        "from sklearn.metrics import r2_score\n",
        "from sklearn.metrics import mean_squared_error\n",
        "from sklearn.metrics import accuracy_score\n",
        "from sklearn.metrics import mean_absolute_error\n",
        "from sklearn.metrics import log_loss\n",
        "import math\n",
        "from sklearn.ensemble import RandomForestRegressor\n",
        "!pip install scikit-optimize\n",
        "from skopt.space import Real, Categorical, Integer\n",
        "from skopt import BayesSearchCV\n",
        "from sklearn import ensemble\n",
        "\n",
        "\n",
        "from sklearn.metrics import confusion_matrix,classification_report\n",
        "import warnings\n",
        "warnings.filterwarnings('ignore')"
      ],
      "metadata": {
        "id": "M8Vqi-pPk-HR"
      },
      "execution_count": null,
      "outputs": []
    },
    {
      "cell_type": "markdown",
      "source": [
        "### Dataset Loading"
      ],
      "metadata": {
        "id": "3RnN4peoiCZX"
      }
    },
    {
      "cell_type": "code",
      "source": [
        "# Load Dataset\n",
        "from google.colab import drive\n",
        "drive.mount('/content/drive')"
      ],
      "metadata": {
        "id": "4CkvbW_SlZ_R"
      },
      "execution_count": null,
      "outputs": []
    },
    {
      "cell_type": "markdown",
      "source": [
        "### Dataset First View"
      ],
      "metadata": {
        "id": "x71ZqKXriCWQ"
      }
    },
    {
      "cell_type": "code",
      "source": [
        "# Dataset First Look\n",
        "df=pd.read_csv(\"/content/drive/MyDrive/Oasis Infobyte dataset/CAR PRICE PREDICTION WITH MACHINE LEARNING.csv\")"
      ],
      "metadata": {
        "id": "LWNFOSvLl09H"
      },
      "execution_count": null,
      "outputs": []
    },
    {
      "cell_type": "code",
      "source": [
        "# take a first look at dataset\n",
        "pd.set_option('display.max_columns', None)\n",
        "df.head()"
      ],
      "metadata": {
        "id": "VcjUL6qRmmJI"
      },
      "execution_count": null,
      "outputs": []
    },
    {
      "cell_type": "markdown",
      "source": [
        "### Dataset Rows & Columns count"
      ],
      "metadata": {
        "id": "7hBIi_osiCS2"
      }
    },
    {
      "cell_type": "code",
      "source": [
        "# Dataset Rows & Columns count\n",
        "df.shape"
      ],
      "metadata": {
        "id": "Kllu7SJgmLij"
      },
      "execution_count": null,
      "outputs": []
    },
    {
      "cell_type": "markdown",
      "source": [
        "### Dataset Information"
      ],
      "metadata": {
        "id": "JlHwYmJAmNHm"
      }
    },
    {
      "cell_type": "code",
      "source": [
        "# Dataset Info\n",
        "df.info()"
      ],
      "metadata": {
        "id": "e9hRXRi6meOf"
      },
      "execution_count": null,
      "outputs": []
    },
    {
      "cell_type": "markdown",
      "source": [
        "#### Duplicate Values"
      ],
      "metadata": {
        "id": "35m5QtbWiB9F"
      }
    },
    {
      "cell_type": "code",
      "source": [
        "# Dataset Duplicate Value Count\n",
        "df.duplicated().sum()"
      ],
      "metadata": {
        "id": "1sLdpKYkmox0"
      },
      "execution_count": null,
      "outputs": []
    },
    {
      "cell_type": "markdown",
      "source": [
        "#### Missing Values/Null Values"
      ],
      "metadata": {
        "id": "PoPl-ycgm1ru"
      }
    },
    {
      "cell_type": "code",
      "source": [
        "# Missing Values/Null Values Count\n",
        "df.isnull().sum()"
      ],
      "metadata": {
        "id": "GgHWkxvamxVg"
      },
      "execution_count": null,
      "outputs": []
    },
    {
      "cell_type": "code",
      "source": [
        "# Visualizing the missing values\n",
        "msno.bar(df)"
      ],
      "metadata": {
        "id": "3q5wnI3om9sJ"
      },
      "execution_count": null,
      "outputs": []
    },
    {
      "cell_type": "markdown",
      "source": [
        "### What did you know about your dataset?"
      ],
      "metadata": {
        "id": "H0kj-8xxnORC"
      }
    },
    {
      "cell_type": "markdown",
      "source": [
        "1. The given data set has 206 rows and 26 columns.\n",
        "2. The dataset contains zero null values and zero duplicate rows.\n",
        "3. The dataset has 10 columns with object data types or string data type  and 16 columns with numerical types of data."
      ],
      "metadata": {
        "id": "gfoNAAC-nUe_"
      }
    },
    {
      "cell_type": "markdown",
      "source": [
        "## ***2. Understanding Your Variables***"
      ],
      "metadata": {
        "id": "nA9Y7ga8ng1Z"
      }
    },
    {
      "cell_type": "code",
      "source": [
        "# Dataset Columns\n",
        "df.columns"
      ],
      "metadata": {
        "id": "j7xfkqrt5Ag5"
      },
      "execution_count": null,
      "outputs": []
    },
    {
      "cell_type": "code",
      "source": [
        "# Dataset Describe\n",
        "df.describe()"
      ],
      "metadata": {
        "id": "DnOaZdaE5Q5t"
      },
      "execution_count": null,
      "outputs": []
    },
    {
      "cell_type": "markdown",
      "source": [
        "### Variables Description "
      ],
      "metadata": {
        "id": "PBTbrJXOngz2"
      }
    },
    {
      "cell_type": "markdown",
      "source": [
        "The terms mentioned correspond to various attributes or variables related to car information. Here's a description of each term:\n",
        "\n",
        "**Car_ID**: It refers to a unique identifier assigned to each car in the dataset. This ID distinguishes one car from another.\n",
        "\n",
        "**Symboling**: Symboling represents the insurance risk rating of a car. It is an industry-standard rating that indicates the level of risk associated with insuring a particular vehicle. The symboling scale typically ranges from -3 to +3, where negative values indicate a higher risk and positive values indicate a lower risk.\n",
        "\n",
        "**CarName**: CarName represents the name or brand of the car. It specifies the manufacturer or the model of the vehicle.\n",
        "\n",
        "**Fueltype**: Fueltype describes the type of fuel the car uses. It can be either \"gas\" (petrol) or \"diesel.\"\n",
        "\n",
        "**Aspiration**: Aspiration refers to the method used to induce air into the car's engine. It can be either \"std\" (naturally aspirated) or \"turbo\" (turbocharged).\n",
        "\n",
        "**Doornumber**: Doornumber indicates the number of doors the car has. It can be \"two\" or \"four.\"\n",
        "\n",
        "**Carbody**: Carbody represents the body style or design of the car, such as sedan, hatchback, convertible, wagon, etc.\n",
        "\n",
        "**Drivewheel**: Drivewheel specifies the type of wheel that provides power and moves the car. It can be front-wheel drive (FWD), rear-wheel drive (RWD), or four-wheel drive (4WD).\n",
        "\n",
        "**Enginelocation**: Enginelocation describes the placement of the car's engine. It can be either \"front\" or \"rear.\"\n",
        "\n",
        "**Wheelbase**: Wheelbase refers to the distance between the centers of the front and rear wheels. It is an important parameter that influences the stability and handling of the vehicle.\n",
        "\n",
        "**Carwidth**: Carwidth represents the width of the car, typically measured in millimeters (mm). It indicates the width of the body, including the exterior mirrors.\n",
        "\n",
        "**Carheight**: Carheight denotes the height of the car, usually measured in millimeters (mm). It refers to the vertical measurement from the ground to the highest point of the vehicle.\n",
        "\n",
        "**Curbweight**: Curbweight indicates the weight of the car without any occupants or cargo. It includes the weight of all standard equipment, fluids, and fuel.\n",
        "\n",
        "**Enginetype**: Enginetype specifies the configuration or type of the car's engine, such as \"ohc\" (overhead camshaft), \"ohcf\" (overhead camshaft and cam follower), \"dohc\" (dual overhead camshaft), and so on.\n",
        "\n",
        "**Cylindernumber**: Cylindernumber refers to the number of cylinders in the car's engine. It can be represented as a numerical value, such as 4, 6, or 8.\n",
        "\n",
        "**Enginesize**: Enginesize indicates the displacement volume of the car's engine. It represents the total capacity of all cylinders and is typically measured in cubic centimeters (cc) or liters (L).\n",
        "\n",
        "**Fuelsystem**: Fuelsystem represents the type of fuel delivery system used in the car, such as \"mpfi\" (multi-point fuel injection), \"2bbl\" (two-barrel carburetor), \"4bbl\" (four-barrel carburetor), and so on.\n",
        "\n",
        "**Boreratio**: Boreratio refers to the ratio between the diameter of the engine cylinder and the piston stroke length. It influences the engine's performance and efficiency.\n",
        "\n",
        "**Stroke**: Stroke represents the length of the piston stroke in the engine, indicating the distance traveled by the piston"
      ],
      "metadata": {
        "id": "aJV4KIxSnxay"
      }
    },
    {
      "cell_type": "markdown",
      "source": [
        "### Check Unique Values for each variable."
      ],
      "metadata": {
        "id": "u3PMJOP6ngxN"
      }
    },
    {
      "cell_type": "code",
      "source": [
        "# Check Unique Values for each variable.\n",
        "df.nunique()"
      ],
      "metadata": {
        "id": "zms12Yq5n-jE"
      },
      "execution_count": null,
      "outputs": []
    },
    {
      "cell_type": "code",
      "source": [
        "# Create a list of variables to check for outliers\n",
        "variables = ['symboling', 'wheelbase',\n",
        "             'carlength', 'carwidth', 'carheight', 'curbweight',\n",
        "              'enginesize',  'boreratio', 'stroke',\n",
        "             'compressionratio', 'horsepower', 'peakrpm', 'citympg', 'highwaympg',\n",
        "             'price']\n",
        "# Create a box plot for each variable\n",
        "plt.figure(figsize=(10, 8))\n",
        "for variable in variables:\n",
        "    plt.figure(figsize=(8, 6))\n",
        "    sns.boxplot(data=df[variable])\n",
        "    plt.title(f'Box Plot - {variable}')\n",
        "    plt.xlabel(variable)\n",
        "    plt.show()"
      ],
      "metadata": {
        "id": "KptJuoyPGnrE"
      },
      "execution_count": null,
      "outputs": []
    },
    {
      "cell_type": "markdown",
      "source": [
        "## ***3. Data Vizualization, Storytelling & Experimenting with charts : Understand the relationships between variables***"
      ],
      "metadata": {
        "id": "GF8Ens_Soomf"
      }
    },
    {
      "cell_type": "markdown",
      "source": [
        "#### Chart - 1"
      ],
      "metadata": {
        "id": "0wOQAZs5pc--"
      }
    },
    {
      "cell_type": "code",
      "source": [
        "# Chart - 1 visualization code\n",
        "# Visualize the distribution of car prices\n",
        "plt.figure(figsize=(10, 6))\n",
        "sns.histplot(df['price'])\n",
        "plt.title('Distribution of Car Prices')\n",
        "plt.xlabel('Price')\n",
        "plt.ylabel('Count')\n",
        "plt.show()"
      ],
      "metadata": {
        "id": "7v_ESjsspbW7"
      },
      "execution_count": null,
      "outputs": []
    },
    {
      "cell_type": "markdown",
      "source": [
        "##### 2. What is/are the insight(s) found from the chart?"
      ],
      "metadata": {
        "id": "lQ7QKXXCp7Bj"
      }
    },
    {
      "cell_type": "markdown",
      "source": [
        "#### Chart - 2"
      ],
      "metadata": {
        "id": "KSlN3yHqYklG"
      }
    },
    {
      "cell_type": "code",
      "source": [
        "# Chart - 2 visualization code\n",
        "# Visualize the relationship between car prices and engine size\n",
        "plt.figure(figsize=(10, 6))\n",
        "sns.scatterplot(data=df, x='enginesize', y='price')\n",
        "plt.title('Car Price vs. Engine Size')\n",
        "plt.xlabel('Engine Size')\n",
        "plt.ylabel('Price')\n",
        "plt.show()"
      ],
      "metadata": {
        "id": "R4YgtaqtYklH"
      },
      "execution_count": null,
      "outputs": []
    },
    {
      "cell_type": "markdown",
      "source": [
        "##### 2. What is/are the insight(s) found from the chart?"
      ],
      "metadata": {
        "id": "ijmpgYnKYklI"
      }
    },
    {
      "cell_type": "markdown",
      "source": [
        "#### Chart - 3"
      ],
      "metadata": {
        "id": "EM7whBJCYoAo"
      }
    },
    {
      "cell_type": "code",
      "source": [
        "# Chart - 3 visualization code\n",
        "# Visualize the average car price by car body type\n",
        "plt.figure(figsize=(10, 6))\n",
        "sns.barplot(data=df, x='carbody', y='price')\n",
        "plt.title('Average Car Price by Body Type')\n",
        "plt.xlabel('Body Type')\n",
        "plt.ylabel('Average Price')\n",
        "plt.show()"
      ],
      "metadata": {
        "id": "t6GMdE67YoAp"
      },
      "execution_count": null,
      "outputs": []
    },
    {
      "cell_type": "markdown",
      "source": [
        "##### 2. What is/are the insight(s) found from the chart?"
      ],
      "metadata": {
        "id": "85gYPyotYoAp"
      }
    },
    {
      "cell_type": "markdown",
      "source": [
        "Answer Here"
      ],
      "metadata": {
        "id": "4jstXR6OYoAp"
      }
    },
    {
      "cell_type": "markdown",
      "source": [
        "#### Chart - 4"
      ],
      "metadata": {
        "id": "4Of9eVA-YrdM"
      }
    },
    {
      "cell_type": "code",
      "source": [
        "# Chart - 4 visualization code\n",
        "# Compare the average car prices based on the fuel type and aspiration.\n",
        "plt.figure(figsize=(10, 6))\n",
        "sns.barplot(data=df, x='fueltype', y='price', hue='aspiration')\n",
        "plt.title('Average Car Price by Fuel Type and Aspiration')\n",
        "plt.xlabel('Fuel Type')\n",
        "plt.ylabel('Average Price')\n",
        "plt.show()"
      ],
      "metadata": {
        "id": "irlUoxc8YrdO"
      },
      "execution_count": null,
      "outputs": []
    },
    {
      "cell_type": "markdown",
      "source": [
        "##### 2. What is/are the insight(s) found from the chart?"
      ],
      "metadata": {
        "id": "F6T5p64dYrdO"
      }
    },
    {
      "cell_type": "markdown",
      "source": [
        "Answer Here"
      ],
      "metadata": {
        "id": "Xx8WAJvtYrdO"
      }
    },
    {
      "cell_type": "markdown",
      "source": [
        "#### Chart - 5"
      ],
      "metadata": {
        "id": "bamQiAODYuh1"
      }
    },
    {
      "cell_type": "code",
      "source": [
        "# Explore the correlation between numeric variables related to car prices.\n",
        "plt.figure(figsize=(15, 10))\n",
        "corr_matrix = df.corr()  # Compute the correlation matrix for all variables\n",
        "sns.heatmap(corr_matrix, annot=True, cmap='coolwarm')\n",
        "plt.title('Correlation Heatmap of All Variables')\n",
        "plt.show()"
      ],
      "metadata": {
        "id": "PlonTtipFi51"
      },
      "execution_count": null,
      "outputs": []
    },
    {
      "cell_type": "code",
      "source": [
        "# Chart - 5 visualization code\n",
        "# Explore the correlation between numeric variables related to car prices.\n",
        "plt.figure(figsize=(10, 8))\n",
        "corr_matrix = df[['wheelbase', 'carwidth', 'carheight', 'curbweight', 'enginesize', 'price']].corr()\n",
        "sns.heatmap(corr_matrix, annot=True, cmap='coolwarm')\n",
        "plt.title('Correlation Heatmap of Car Price Variables')\n",
        "plt.show()"
      ],
      "metadata": {
        "id": "TIJwrbroYuh3"
      },
      "execution_count": null,
      "outputs": []
    },
    {
      "cell_type": "markdown",
      "source": [
        "##### 2. What is/are the insight(s) found from the chart?"
      ],
      "metadata": {
        "id": "GwzvFGzlYuh3"
      }
    },
    {
      "cell_type": "markdown",
      "source": [
        "Answer Here"
      ],
      "metadata": {
        "id": "uyqkiB8YYuh3"
      }
    },
    {
      "cell_type": "markdown",
      "source": [
        "#### Chart - 6"
      ],
      "metadata": {
        "id": "OH-pJp9IphqM"
      }
    },
    {
      "cell_type": "code",
      "source": [
        "# Chart - 6 visualization code\n",
        "df_subset = df[variables]\n",
        "\n",
        "# Create the pair plot\n",
        "sns.pairplot(df_subset)\n",
        "plt.title('Pairwise Relationships of All Variables')\n",
        "plt.show()"
      ],
      "metadata": {
        "id": "kuRf4wtuphqN"
      },
      "execution_count": null,
      "outputs": []
    },
    {
      "cell_type": "markdown",
      "source": [
        "##### 2. What is/are the insight(s) found from the chart?"
      ],
      "metadata": {
        "id": "_ouA3fa0phqN"
      }
    },
    {
      "cell_type": "markdown",
      "source": [
        "Answer Here"
      ],
      "metadata": {
        "id": "VECbqPI7phqN"
      }
    },
    {
      "cell_type": "markdown",
      "source": [
        "#### Chart - 11"
      ],
      "metadata": {
        "id": "x-EpHcCOp1ci"
      }
    },
    {
      "cell_type": "code",
      "source": [
        "# Chart - 11 visualization code"
      ],
      "metadata": {
        "id": "mAQTIvtqp1cj"
      },
      "execution_count": null,
      "outputs": []
    },
    {
      "cell_type": "markdown",
      "source": [
        "## 4. ***Data Wrangling***"
      ],
      "metadata": {
        "id": "dauF4eBmngu3"
      }
    },
    {
      "cell_type": "markdown",
      "source": [
        "### Data Wrangling Code"
      ],
      "metadata": {
        "id": "bKJF3rekwFvQ"
      }
    },
    {
      "cell_type": "code",
      "source": [
        "# Write your code to make your dataset analysis ready.\n",
        "# lets change the string data into numerical data using integer encoding.\n",
        "# understand  values inside the variable using value counts"
      ],
      "metadata": {
        "id": "wk-9a2fpoLcV"
      },
      "execution_count": null,
      "outputs": []
    },
    {
      "cell_type": "code",
      "source": [
        "# value counts for fueltype\n",
        "print(df.fueltype.value_counts())\n",
        "# value counts for aspiration\n",
        "print(df.aspiration.value_counts())\n",
        "# value counts for doornumber\n",
        "print(df.doornumber.value_counts())\n",
        "# value counts for carbody\n",
        "print(df.carbody.value_counts())\n",
        "# value counts for drivewheel\n",
        "print(df.drivewheel.value_counts())\n",
        "# value counts for enginelocation\n",
        "print(df.enginelocation.value_counts())\n",
        "# value counts for enginetype\n",
        "print(df.enginetype.value_counts())\n",
        "# value counts for fuelsystem\n",
        "print(df.fuelsystem.value_counts())"
      ],
      "metadata": {
        "id": "SjuMvXJ-15aG"
      },
      "execution_count": null,
      "outputs": []
    },
    {
      "cell_type": "code",
      "source": [
        "# value counts for cylinernumber\n",
        "print(df.cylindernumber.value_counts())"
      ],
      "metadata": {
        "id": "HTm-igOt3CtI"
      },
      "execution_count": null,
      "outputs": []
    },
    {
      "cell_type": "code",
      "source": [
        "from sklearn.preprocessing import LabelEncoder\n",
        "\n",
        "# Create an instance of LabelEncoder\n",
        "label_encoder = LabelEncoder()\n",
        "\n",
        "# Fit and transform the fueltype to integers\n",
        "df['fueltype'] = label_encoder.fit_transform(df['fueltype'])\n",
        "# Fit and transform the aspiration to integers\n",
        "df['aspiration'] = label_encoder.fit_transform(df['aspiration'])\n",
        "# Fit and transform the carbody to integers\n",
        "df['carbody'] = label_encoder.fit_transform(df['carbody'])\n",
        "# Fit and transform the drivewheel\t to integers\n",
        "df['drivewheel'] = label_encoder.fit_transform(df['drivewheel'])\n",
        "# Fit and transform the enginelocation to integers\n",
        "df['enginelocation'] = label_encoder.fit_transform(df['enginelocation'])\n",
        "# Fit and transform the doornumber to integers\n",
        "df['doornumber'] = label_encoder.fit_transform(df['doornumber'])\n",
        "# Fit and transform the enginetype to integers\n",
        "df['enginetype'] = label_encoder.fit_transform(df['enginetype'])\n",
        "# Fit and transform the cylindernumber to integers\n",
        "df['cylindernumber'] = label_encoder.fit_transform(df['cylindernumber'])\n",
        "# Fit and transform the fuelsystem to integers\n",
        "df['fuelsystem'] = label_encoder.fit_transform(df['fuelsystem'])"
      ],
      "metadata": {
        "id": "H4uK7fQA5uEA"
      },
      "execution_count": null,
      "outputs": []
    },
    {
      "cell_type": "code",
      "source": [
        "# take a look at dataset\n",
        "df.head()"
      ],
      "metadata": {
        "id": "6T8M11jz-kNm"
      },
      "execution_count": null,
      "outputs": []
    },
    {
      "cell_type": "code",
      "source": [
        "# check the datatype\n",
        "df.info()"
      ],
      "metadata": {
        "id": "gZvwYci--sV8"
      },
      "execution_count": null,
      "outputs": []
    },
    {
      "cell_type": "code",
      "source": [
        "# converting onject datatype to string datatype\n",
        "df['CarName'] = df['CarName'].astype(str)"
      ],
      "metadata": {
        "id": "kDze3les_rYq"
      },
      "execution_count": null,
      "outputs": []
    },
    {
      "cell_type": "markdown",
      "source": [
        "Now , we have done all  the data wrangling work , now our dataset is ready to model implementaion."
      ],
      "metadata": {
        "id": "LbyXE7I1olp8"
      }
    },
    {
      "cell_type": "code",
      "source": [
        "# separate the independent and dependent variable \n",
        "# Create X (independent variables) by selecting all columns except the target variable\n",
        "X = df.drop(['car_ID','CarName', 'price'], axis=1)\n",
        "\n",
        "# Create y (dependent variable) by selecting only the target variable column\n",
        "y = df['price']\n"
      ],
      "metadata": {
        "id": "VaUeuXzmL9zo"
      },
      "execution_count": null,
      "outputs": []
    },
    {
      "cell_type": "code",
      "source": [
        "from sklearn.ensemble import RandomForestRegressor\n",
        "import matplotlib.pyplot as plt\n",
        "\n",
        "# Assuming X is your feature matrix and y is the target variable\n",
        "\n",
        "# Create a Random Forest regressor\n",
        "rf = RandomForestRegressor()\n",
        "\n",
        "# Fit the model to your data\n",
        "rf.fit(X, y)\n",
        "\n",
        "# Get feature importances\n",
        "importances = rf.feature_importances_\n",
        "\n",
        "# Get feature names\n",
        "feature_names = X.columns\n",
        "\n",
        "# Sort feature importances in descending order\n",
        "indices = np.argsort(importances)[::-1]\n",
        "\n",
        "# Plot feature importances\n",
        "plt.figure(figsize=(10, 6))\n",
        "plt.bar(range(len(feature_names)), importances[indices])\n",
        "plt.xticks(range(len(feature_names)), feature_names[indices], rotation='vertical')\n",
        "plt.title('Feature Importances')\n",
        "plt.xlabel('Features')\n",
        "plt.ylabel('Importance')\n",
        "plt.show()\n"
      ],
      "metadata": {
        "id": "phEO48XrL3d-"
      },
      "execution_count": null,
      "outputs": []
    },
    {
      "cell_type": "markdown",
      "source": [
        "# **5.model implementation**"
      ],
      "metadata": {
        "id": "ITwWFoq_TjJx"
      }
    },
    {
      "cell_type": "code",
      "source": [
        "from sklearn.model_selection import train_test_split\n",
        "# split the data into train and test data\n",
        "X_train, X_test, y_train, y_test = train_test_split(X, y, test_size=0.2, random_state=42)"
      ],
      "metadata": {
        "id": "Z9SzOFQ9TE_y"
      },
      "execution_count": null,
      "outputs": []
    },
    {
      "cell_type": "code",
      "source": [
        "# Lets rescale the all the values between  0 to 1 using the min_max_scaler\n",
        "from sklearn.preprocessing import MinMaxScaler, StandardScaler\n",
        "scale = MinMaxScaler()\n",
        "X_train=scale.fit_transform(X_train)\n",
        "X_test= scale.transform(X_test)"
      ],
      "metadata": {
        "id": "UeTnaSa3Bbqc"
      },
      "execution_count": null,
      "outputs": []
    },
    {
      "cell_type": "code",
      "source": [
        "# lets check the shape of dataset\n",
        "X_train.shape"
      ],
      "metadata": {
        "id": "K6H3VEbMBbmb"
      },
      "execution_count": null,
      "outputs": []
    },
    {
      "cell_type": "code",
      "source": [
        "# check the shape of the testing dataset\n",
        "X_test.shape"
      ],
      "metadata": {
        "id": "rHk_LYwsB1ND"
      },
      "execution_count": null,
      "outputs": []
    },
    {
      "cell_type": "code",
      "source": [
        "# lets define function to calculate all the evaluation metrics\n",
        "#Evaluate Metrics\n",
        "def print_evaluate(true, predicted):  \n",
        "    mae = metrics.mean_absolute_error(true, predicted)\n",
        "    mse = metrics.mean_squared_error(true, predicted)\n",
        "    rmse = np.sqrt(metrics.mean_squared_error(true, predicted))\n",
        "    r2_square = metrics.r2_score(true, predicted)\n",
        "    print('MAE:', mae)\n",
        "    print('MSE:', mse)\n",
        "    print('RMSE:', rmse)\n",
        "    print('R2 Square', r2_square)\n",
        "    print('__________________________________')"
      ],
      "metadata": {
        "id": "JKbHt5RKGPhe"
      },
      "execution_count": null,
      "outputs": []
    },
    {
      "cell_type": "markdown",
      "source": [
        "# **1.Decison Tree regressor**"
      ],
      "metadata": {
        "id": "qwAwIMMAKC0_"
      }
    },
    {
      "cell_type": "code",
      "source": [
        "from sklearn.tree import DecisionTreeRegressor\n",
        "\n",
        "# Assuming X and y are your independent and dependent variables respectively\n",
        "\n",
        "# Create an instance of the DecisionTreeRegressor\n",
        "tree_model = DecisionTreeRegressor()\n",
        "\n",
        "# Fit the model to the training data\n",
        "tree_model.fit(X_train, y_train)\n",
        "\n",
        "# Make predictions on the test data\n",
        "y_pred = tree_model.predict(X_test)"
      ],
      "metadata": {
        "id": "RC2hkokiGR9n"
      },
      "execution_count": null,
      "outputs": []
    },
    {
      "cell_type": "code",
      "source": [
        "print('Test set evaluation:\\n_____________________________________')\n",
        "print_evaluate(y_test, y_pred)"
      ],
      "metadata": {
        "id": "RsVdx8rqIa-C"
      },
      "execution_count": null,
      "outputs": []
    },
    {
      "cell_type": "markdown",
      "source": [
        "# **2.Random Forest regressor**"
      ],
      "metadata": {
        "id": "CVR2Mn5ggLy6"
      }
    },
    {
      "cell_type": "code",
      "source": [
        "# import packages\n",
        "from sklearn.ensemble import RandomForestRegressor\n",
        "from sklearn.model_selection import GridSearchCV\n",
        "# model implementation\n",
        "param_grid = {  'bootstrap': [True], 'max_depth': [5, 10, None], 'max_features': ['auto', 'log2'], 'n_estimators': [25]}\n",
        "rfr = RandomForestRegressor(random_state = 1)\n",
        "\n",
        "random_forest_model= GridSearchCV(estimator = rfr, param_grid = param_grid, cv = 3, n_jobs = 1, verbose = 0, return_train_score=True)\n"
      ],
      "metadata": {
        "id": "m_GEBV3xgK4A"
      },
      "execution_count": null,
      "outputs": []
    },
    {
      "cell_type": "code",
      "source": [
        "# # Fit the object to train dataset\n",
        "random_forest_model.fit(X_train, y_train)\n",
        "train_pred = random_forest_model.predict(X_train)\n",
        "test_pred_rf = random_forest_model.predict(X_test)"
      ],
      "metadata": {
        "id": "w1Y9BNqIgX94"
      },
      "execution_count": null,
      "outputs": []
    },
    {
      "cell_type": "code",
      "source": [
        "# test model on test data set\n",
        "\n",
        "print('Test set evaluation:\\n_____________________________________')\n",
        "print_evaluate(y_test, test_pred_rf)"
      ],
      "metadata": {
        "id": "xqil4ng8gmGL"
      },
      "execution_count": null,
      "outputs": []
    },
    {
      "cell_type": "markdown",
      "source": [
        "# **3 . Gradient boost regressor**"
      ],
      "metadata": {
        "id": "0iQe8NH-hBXx"
      }
    },
    {
      "cell_type": "code",
      "source": [
        "# Model Training\n",
        "from sklearn.ensemble import GradientBoostingRegressor\n",
        "\n",
        "gbc_reg = GradientBoostingRegressor(random_state =42)\n",
        "gbc_reg.fit(X_train,y_train)"
      ],
      "metadata": {
        "id": "xqBVItLqVyvt"
      },
      "execution_count": null,
      "outputs": []
    },
    {
      "cell_type": "code",
      "source": [
        "# Model Prediction\n",
        "y_pred_gb =gbc_reg.predict(X_test)\n",
        "train_pred = gbc_reg.predict(X_train)\n",
        "test_pred = gbc_reg.predict(X_test)"
      ],
      "metadata": {
        "id": "Q6GSNV80V3x9"
      },
      "execution_count": null,
      "outputs": []
    },
    {
      "cell_type": "code",
      "source": [
        "# test model on test data set\n",
        "\n",
        "print('Test set evaluation:\\n_____________________________________')\n",
        "print_evaluate(y_test, y_pred_gb)"
      ],
      "metadata": {
        "id": "B3KfAPwOWGbM"
      },
      "execution_count": null,
      "outputs": []
    },
    {
      "cell_type": "markdown",
      "source": [
        "## **5. Solution to Business Objective**"
      ],
      "metadata": {
        "id": "JcMwzZxoAimU"
      }
    },
    {
      "cell_type": "markdown",
      "source": [
        "#### What do you suggest the client to achieve Business Objective ? \n",
        "Explain Briefly."
      ],
      "metadata": {
        "id": "8G2x9gOozGDZ"
      }
    },
    {
      "cell_type": "markdown",
      "source": [
        "Answer Here."
      ],
      "metadata": {
        "id": "pASKb0qOza21"
      }
    },
    {
      "cell_type": "markdown",
      "source": [
        "# **Conclusion**"
      ],
      "metadata": {
        "id": "gCX9965dhzqZ"
      }
    },
    {
      "cell_type": "markdown",
      "source": [
        "Write the conclusion here."
      ],
      "metadata": {
        "id": "Fjb1IsQkh3yE"
      }
    }
  ]
}